{
 "cells": [
  {
   "cell_type": "code",
   "execution_count": null,
   "metadata": {},
   "outputs": [],
   "source": [
    "##############################################################################\n",
    "# Load a video file and create a prediction based on AI algorithm\n",
    "##############################################################################\n",
    "\n",
    "# Classify all the images in a holdout set."
   ]
  },
  {
   "cell_type": "code",
   "execution_count": null,
   "metadata": {},
   "outputs": [],
   "source": [
    "import pickle\n",
    "import sys\n",
    "import tensorflow as tf\n",
    "from tqdm import tqdm"
   ]
  },
  {
   "cell_type": "code",
   "execution_count": null,
   "metadata": {},
   "outputs": [],
   "source": [
    "def get_labels():\n",
    "    \"\"\"Return a list of our trained labels so we can\n",
    "    test our training accuracy. The file is in the\n",
    "    format of one label per line, in the same order\n",
    "    as the predictions are made. The order can change\n",
    "    between training runs.\"\"\"\n",
    "    with open(\"./inception/retrained_labels.txt\", 'r') as fin:\n",
    "        labels = [line.rstrip('\\n') for line in fin]\n",
    "    return labels"
   ]
  },
  {
   "cell_type": "code",
   "execution_count": null,
   "metadata": {},
   "outputs": [],
   "source": [
    "def predict_on_frames(frames, batch):\n",
    "    \"\"\"Given a list of frames, predict all their classes.\"\"\"\n",
    "    # Unpersists graph from file\n",
    "    with tf.gfile.FastGFile(\"./inception/retrained_graph.pb\", 'rb') as fin:\n",
    "        graph_def = tf.GraphDef()\n",
    "        graph_def.ParseFromString(fin.read())\n",
    "        _ = tf.import_graph_def(graph_def, name='')\n",
    "\n",
    "    with tf.Session() as sess:\n",
    "        softmax_tensor = sess.graph.get_tensor_by_name('final_result:0')\n",
    "\n",
    "        frame_predictions = []\n",
    "        image_path = 'images/' + batch + '/'\n",
    "        pbar = tqdm(total=len(frames))\n",
    "        for i, frame in enumerate(frames):\n",
    "            filename = frame[0]\n",
    "            label = frame[1]\n",
    "\n",
    "            # Get the image path.\n",
    "            image = image_path + filename + '.jpg'\n",
    "\n",
    "            # Read in the image_data\n",
    "            image_data = tf.gfile.FastGFile(image, 'rb').read()\n",
    "\n",
    "            try:\n",
    "                predictions = sess.run(\n",
    "                    softmax_tensor,\n",
    "                    {'DecodeJpeg/contents:0': image_data}\n",
    "                )\n",
    "                prediction = predictions[0]\n",
    "            except KeyboardInterrupt:\n",
    "                print(\"You quit with ctrl+c\")\n",
    "                sys.exit()\n",
    "            except:\n",
    "                print(\"Error making prediction, continuing.\")\n",
    "                continue\n",
    "\n",
    "            # Save the probability that it's each of our classes.\n",
    "            frame_predictions.append([prediction, label])\n",
    "\n",
    "            if i > 0 and i % 10 == 0:\n",
    "                pbar.update(10)\n",
    "\n",
    "        pbar.close()\n",
    "\n",
    "        return frame_predictions"
   ]
  },
  {
   "cell_type": "code",
   "execution_count": null,
   "metadata": {},
   "outputs": [],
   "source": [
    "def get_accuracy(predictions, labels):\n",
    "    \"\"\"After predicting on each batch, check that batch's\n",
    "    accuracy to make sure things are good to go. This is\n",
    "    a simple accuracy metric, and so doesn't take confidence\n",
    "    into account, which would be a better metric to use to\n",
    "    compare changes in the model.\"\"\"\n",
    "    correct = 0\n",
    "    for frame in predictions:\n",
    "        # Get the highest confidence class.\n",
    "        this_prediction = frame[0].tolist()\n",
    "        this_label = frame[1]\n",
    "\n",
    "        max_value = max(this_prediction)\n",
    "        max_index = this_prediction.index(max_value)\n",
    "        predicted_label = labels[max_index]\n",
    "\n",
    "        # Now see if it matches.\n",
    "        if predicted_label == this_label:\n",
    "            correct += 1\n",
    "\n",
    "    accuracy = correct / len(predictions)\n",
    "    return accuracy"
   ]
  },
  {
   "cell_type": "code",
   "execution_count": null,
   "metadata": {},
   "outputs": [],
   "source": [
    "def main():\n",
    "    batches = ['1']\n",
    "    labels = get_labels()\n",
    "\n",
    "    for batch in batches:\n",
    "        print(\"Doing batch %s\" % batch)\n",
    "        with open('data/labeled-frames-' + batch + '.pkl', 'rb') as fin:\n",
    "            frames = pickle.load(fin)\n",
    "\n",
    "        # Predict on this batch and get the accuracy.\n",
    "        predictions = predict_on_frames(frames, batch)\n",
    "        accuracy = get_accuracy(predictions, labels)\n",
    "        print(\"Batch accuracy: %.5f\" % accuracy)\n",
    "\n",
    "        # Save it.\n",
    "        with open('data/predicted-frames-' + batch + '.pkl', 'wb') as fout:\n",
    "            pickle.dump(predictions, fout)\n",
    "\n",
    "    print(\"Done.\")\n",
    "\n",
    "if __name__ == '__main__':\n",
    "    main()\n"
   ]
  }
 ],
 "metadata": {
  "kernelspec": {
   "display_name": "Python 3",
   "language": "python",
   "name": "python3"
  },
  "language_info": {
   "codemirror_mode": {
    "name": "ipython",
    "version": 3
   },
   "file_extension": ".py",
   "mimetype": "text/x-python",
   "name": "python",
   "nbconvert_exporter": "python",
   "pygments_lexer": "ipython3",
   "version": "3.6.5"
  }
 },
 "nbformat": 4,
 "nbformat_minor": 2
}
