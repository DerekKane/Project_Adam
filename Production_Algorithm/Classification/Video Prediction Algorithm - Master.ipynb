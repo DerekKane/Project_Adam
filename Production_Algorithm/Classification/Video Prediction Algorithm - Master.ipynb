{
 "cells": [
  {
   "cell_type": "code",
   "execution_count": null,
   "metadata": {},
   "outputs": [],
   "source": [
    "##############################################################################\n",
    "# Load a video file and create a prediction based on AI algorithm\n",
    "##############################################################################\n"
   ]
  },
  {
   "cell_type": "code",
   "execution_count": 31,
   "metadata": {},
   "outputs": [
    {
     "name": "stdout",
     "output_type": "stream",
     "text": [
      "3.4.2\n"
     ]
    }
   ],
   "source": [
    "# Declare Packages\n",
    "\n",
    "import cv2\n",
    "import math\n",
    "import sys\n",
    "import argparse\n",
    "import os\n",
    "\n",
    "print(cv2.__version__)"
   ]
  },
  {
   "cell_type": "code",
   "execution_count": 30,
   "metadata": {},
   "outputs": [],
   "source": [
    "# Declare Variables\n",
    "\n",
    "videoFile = \"C:/Users/derek/Documents/Python_Scripts/Project_Adam/New_Video/v_HorseRiding_g13_c01.avi\"\n",
    "imagesFolder = \"C:/Users/derek/Documents/Python_Scripts/Project_Adam/New_Video/Images\"\n",
    "\n",
    "framerate_value = 30\n",
    "\n",
    "# The shape of the individual image is 3 layers of 240 pixels by 320 pixels\n",
    "\n",
    "horizontal_size = 240\n",
    "vertical_size = 320\n",
    "layer_count = 3"
   ]
  },
  {
   "cell_type": "code",
   "execution_count": 35,
   "metadata": {},
   "outputs": [
    {
     "name": "stdout",
     "output_type": "stream",
     "text": [
      "10 images are extacted in C:/Users/derek/Documents/Python_Scripts/Project_Adam/New_Video/Images.\n"
     ]
    }
   ],
   "source": [
    "# os.mkdir(folder)\n",
    "\n",
    "vidcap = cv2.VideoCapture(videoFile)\n",
    "count = 0\n",
    "while True:\n",
    "    vidcap.set(cv2.CAP_PROP_POS_MSEC,(count*1000)) # comment out for all frames\n",
    "    success,image = vidcap.read()\n",
    "    if not success:\n",
    "        break\n",
    "    cv2.imwrite(os.path.join(imagesFolder,\"frame{:d}.jpg\".format(count)), image)     # save frame as JPEG file\n",
    "    count += 1 # 1 represents once per second; 5 for every 5 seconds\n",
    "print(\"{} images are extacted in {}.\".format(count,imagesFolder))"
   ]
  },
  {
   "cell_type": "code",
   "execution_count": null,
   "metadata": {},
   "outputs": [],
   "source": [
    "# https://datascience.stackexchange.com/questions/19896/tensorflow-and-opencv-real-time-classification"
   ]
  }
 ],
 "metadata": {
  "kernelspec": {
   "display_name": "Python 3",
   "language": "python",
   "name": "python3"
  },
  "language_info": {
   "codemirror_mode": {
    "name": "ipython",
    "version": 3
   },
   "file_extension": ".py",
   "mimetype": "text/x-python",
   "name": "python",
   "nbconvert_exporter": "python",
   "pygments_lexer": "ipython3",
   "version": "3.6.5"
  }
 },
 "nbformat": 4,
 "nbformat_minor": 2
}
